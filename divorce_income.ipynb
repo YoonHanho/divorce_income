{
  "nbformat": 4,
  "nbformat_minor": 0,
  "metadata": {
    "colab": {
      "name": "divorce_income.ipynb",
      "version": "0.3.2",
      "provenance": [],
      "collapsed_sections": [],
      "include_colab_link": true
    },
    "kernelspec": {
      "name": "python3",
      "display_name": "Python 3"
    }
  },
  "cells": [
    {
      "cell_type": "markdown",
      "metadata": {
        "id": "view-in-github",
        "colab_type": "text"
      },
      "source": [
        "[View in Colaboratory](https://colab.research.google.com/github/YoonHanho/divorce_income/blob/master/divorce_income.ipynb)"
      ]
    },
    {
      "metadata": {
        "id": "fzFcmqNpHF_z",
        "colab_type": "text"
      },
      "cell_type": "markdown",
      "source": [
        "![대체 텍스트](https://cdn.clien.net/web/api/file/F01/4164040/05a0d3c17ae6433a8bf.JPG?w=780&h=30000)"
      ]
    },
    {
      "metadata": {
        "id": "BgYD64PjHtTw",
        "colab_type": "text"
      },
      "cell_type": "markdown",
      "source": [
        "**팩트인지는 알 수 없으나, 소득과 이혼율의 관계가 이렇다고 한다. ** \n",
        "1. 그림에서 보이는 이혼확률의 두 가지 힌트(월 300만원은 33.3%, 월 1000만원은 0%)를 참조하여\n",
        "2. 선형 함수식을 만들고\n",
        "3. 월소득 값에 따른 이혼확률 추정치를 만들어보자"
      ]
    },
    {
      "metadata": {
        "id": "76wFwpY_GymC",
        "colab_type": "code",
        "colab": {
          "base_uri": "https://localhost:8080/",
          "height": 35
        },
        "outputId": "471a5e1b-8193-4488-90d2-01440449813f"
      },
      "cell_type": "code",
      "source": [
        "# 월소득을 x, 이혼 확률을 y라고 하면, 선형식은 y = ax + b로 표현\n",
        "# a(기울기)와 b(절편)를 구해보자\n",
        "a = (-1/3)/700         # 기울기는 y변화량 / x변화량\n",
        "b = 1/3 - a * 300  # 구해진 기울기에 x(월 300만원)과 y(이혼율 33.3%)값을 대입하여 b를 구한다\n",
        "print(\"기울기 : {0:6.5f}, 절편 : {1:4.3f}\".format(a, b))"
      ],
      "execution_count": 9,
      "outputs": [
        {
          "output_type": "stream",
          "text": [
            "기울기 : -0.00048, 절편 : 0.476\n"
          ],
          "name": "stdout"
        }
      ]
    },
    {
      "metadata": {
        "id": "Xqq_07EHJXfV",
        "colab_type": "code",
        "colab": {
          "base_uri": "https://localhost:8080/",
          "height": 35
        },
        "outputId": "e31edd28-95cc-427a-f0f5-8a11cb72d411"
      },
      "cell_type": "code",
      "source": [
        "# 월소득 맞는지 검증\n",
        "def divorce_rate(x):\n",
        "  return (a*x + b)*100\n",
        "\n",
        "divorce_rate(300)  # 월소득 300만원시 33.3%가 나오면 정답!"
      ],
      "execution_count": 10,
      "outputs": [
        {
          "output_type": "execute_result",
          "data": {
            "text/plain": [
              "33.33333333333333"
            ]
          },
          "metadata": {
            "tags": []
          },
          "execution_count": 10
        }
      ]
    },
    {
      "metadata": {
        "id": "FAYSeWgMHFgZ",
        "colab_type": "code",
        "colab": {
          "base_uri": "https://localhost:8080/",
          "height": 610
        },
        "outputId": "72c4ba24-fcf5-4891-d27f-e7cffed9aa74"
      },
      "cell_type": "code",
      "source": [
        "# 마지막 여정 : 월소득 100만원 단위로 이혼율 추정치를 구해보자\n",
        "import numpy as np\n",
        "import pandas as pd\n",
        "import matplotlib.pyplot as plt\n",
        "\n",
        "results = []\n",
        "for income in np.arange(0,1100,100):\n",
        "  d_r = divorce_rate(income)\n",
        "  results.append([income, d_r])\n",
        "  print(\"월 소득 {0}만원시 이혼확률 : {1:3.1f}%\".format(income, d_r))\n",
        "  \n",
        "plt.figure()\n",
        "pd.Series(np.array(results)[:,1], \n",
        "          index=np.array(results)[:,0]).plot(kind='line')\n",
        "print('\\n')\n",
        "plt.title('Divorce rates by monthly income', fontweight='bold')\n",
        "plt.xlabel('Monthly income')\n",
        "plt.ylabel('Divorce rates')\n",
        "plt.show()"
      ],
      "execution_count": 44,
      "outputs": [
        {
          "output_type": "stream",
          "text": [
            "월 소득 0만원시 이혼확률 : 47.6%\n",
            "월 소득 100만원시 이혼확률 : 42.9%\n",
            "월 소득 200만원시 이혼확률 : 38.1%\n",
            "월 소득 300만원시 이혼확률 : 33.3%\n",
            "월 소득 400만원시 이혼확률 : 28.6%\n",
            "월 소득 500만원시 이혼확률 : 23.8%\n",
            "월 소득 600만원시 이혼확률 : 19.0%\n",
            "월 소득 700만원시 이혼확률 : 14.3%\n",
            "월 소득 800만원시 이혼확률 : 9.5%\n",
            "월 소득 900만원시 이혼확률 : 4.8%\n",
            "월 소득 1000만원시 이혼확률 : 0.0%\n",
            "\n",
            "\n"
          ],
          "name": "stdout"
        },
        {
          "output_type": "display_data",
          "data": {
            "image/png": "[encoded data removed]",
            "text/plain": [
              "<matplotlib.figure.Figure at 0x7feb86132c50>"
            ]
          },
          "metadata": {
            "tags": []
          }
        }
      ]
    },
    {
      "metadata": {
        "id": "2ziHtRXmL6qV",
        "colab_type": "text"
      },
      "cell_type": "markdown",
      "source": [
        "**결론 **\n",
        "1. 급여 100만원 증가 당 이혼율은 4.8%씩 감소\n",
        "2. 회사 짤리면 이혼 당한다.\n",
        "3. 결혼하지 않는 것이 이혼을 방지하는 최고의 방법이다. "
      ]
    }
  ]
}